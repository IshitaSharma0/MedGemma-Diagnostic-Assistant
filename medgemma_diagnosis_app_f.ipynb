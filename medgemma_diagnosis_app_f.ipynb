{
 "cells": [
  {
   "cell_type": "code",
   "execution_count": null,
   "metadata": {
    "colab": {
     "base_uri": "https://localhost:8080/"
    },
    "id": "J2PZBrtmR7VV",
    "outputId": "fdcacd5c-d837-4b22-8eb4-c12dc3d1b844"
   },
   "outputs": [
    {
     "name": "stdout",
     "output_type": "stream",
     "text": [
      "\u001b[2K   \u001b[90m━━━━━━━━━━━━━━━━━━━━━━━━━━━━━━━━━━━━━━━━\u001b[0m \u001b[32m67.0/67.0 MB\u001b[0m \u001b[31m11.9 MB/s\u001b[0m eta \u001b[36m0:00:00\u001b[0m\n",
      "\u001b[2K   \u001b[90m━━━━━━━━━━━━━━━━━━━━━━━━━━━━━━━━━━━━━━━━\u001b[0m \u001b[32m363.4/363.4 MB\u001b[0m \u001b[31m4.3 MB/s\u001b[0m eta \u001b[36m0:00:00\u001b[0m\n",
      "\u001b[2K   \u001b[90m━━━━━━━━━━━━━━━━━━━━━━━━━━━━━━━━━━━━━━━━\u001b[0m \u001b[32m13.8/13.8 MB\u001b[0m \u001b[31m57.6 MB/s\u001b[0m eta \u001b[36m0:00:00\u001b[0m\n",
      "\u001b[2K   \u001b[90m━━━━━━━━━━━━━━━━━━━━━━━━━━━━━━━━━━━━━━━━\u001b[0m \u001b[32m24.6/24.6 MB\u001b[0m \u001b[31m41.8 MB/s\u001b[0m eta \u001b[36m0:00:00\u001b[0m\n",
      "\u001b[2K   \u001b[90m━━━━━━━━━━━━━━━━━━━━━━━━━━━━━━━━━━━━━━━━\u001b[0m \u001b[32m883.7/883.7 kB\u001b[0m \u001b[31m20.3 MB/s\u001b[0m eta \u001b[36m0:00:00\u001b[0m\n",
      "\u001b[2K   \u001b[90m━━━━━━━━━━━━━━━━━━━━━━━━━━━━━━━━━━━━━━━━\u001b[0m \u001b[32m664.8/664.8 MB\u001b[0m \u001b[31m2.1 MB/s\u001b[0m eta \u001b[36m0:00:00\u001b[0m\n",
      "\u001b[2K   \u001b[90m━━━━━━━━━━━━━━━━━━━━━━━━━━━━━━━━━━━━━━━━\u001b[0m \u001b[32m211.5/211.5 MB\u001b[0m \u001b[31m2.4 MB/s\u001b[0m eta \u001b[36m0:00:00\u001b[0m\n",
      "\u001b[2K   \u001b[90m━━━━━━━━━━━━━━━━━━━━━━━━━━━━━━━━━━━━━━━━\u001b[0m \u001b[32m56.3/56.3 MB\u001b[0m \u001b[31m7.7 MB/s\u001b[0m eta \u001b[36m0:00:00\u001b[0m\n",
      "\u001b[2K   \u001b[90m━━━━━━━━━━━━━━━━━━━━━━━━━━━━━━━━━━━━━━━━\u001b[0m \u001b[32m127.9/127.9 MB\u001b[0m \u001b[31m8.4 MB/s\u001b[0m eta \u001b[36m0:00:00\u001b[0m\n",
      "\u001b[2K   \u001b[90m━━━━━━━━━━━━━━━━━━━━━━━━━━━━━━━━━━━━━━━━\u001b[0m \u001b[32m207.5/207.5 MB\u001b[0m \u001b[31m2.6 MB/s\u001b[0m eta \u001b[36m0:00:00\u001b[0m\n",
      "\u001b[2K   \u001b[90m━━━━━━━━━━━━━━━━━━━━━━━━━━━━━━━━━━━━━━━━\u001b[0m \u001b[32m21.1/21.1 MB\u001b[0m \u001b[31m31.2 MB/s\u001b[0m eta \u001b[36m0:00:00\u001b[0m\n",
      "\u001b[?25h"
     ]
    }
   ],
   "source": [
    "!pip install -q transformers accelerate bitsandbytes gradio"
   ]
  },
  {
   "cell_type": "code",
   "execution_count": null,
   "metadata": {
    "id": "ASBx52utR-Li"
   },
   "outputs": [],
   "source": [
    "from transformers import BitsAndBytesConfig, AutoProcessor, AutoModelForImageTextToText, pipeline\n",
    "from PIL import Image\n",
    "import torch\n",
    "import gradio as gr\n"
   ]
  },
  {
   "cell_type": "code",
   "execution_count": null,
   "metadata": {
    "id": "l20b4d_ESlo1"
   },
   "outputs": [],
   "source": [
    "from huggingface_hub import notebook_login, get_token\n",
    "if get_token() is None:\n",
    "    notebook_login()"
   ]
  },
  {
   "cell_type": "code",
   "execution_count": null,
   "metadata": {
    "id": "tcpzGJCETJQo"
   },
   "outputs": [],
   "source": [
    "model_variant = \"4b-it\"\n",
    "model_id = f\"google/medgemma-{model_variant}\"\n",
    "use_quantization = True"
   ]
  },
  {
   "cell_type": "code",
   "execution_count": null,
   "metadata": {
    "id": "r7Pda8K3TLL_"
   },
   "outputs": [],
   "source": [
    "# Model load config\n",
    "model_kwargs = dict(\n",
    "    torch_dtype=torch.bfloat16,\n",
    "    # torch_dtype=torch.float32,\n",
    "    device_map=\"auto\",\n",
    ")\n",
    "\n",
    "if use_quantization:\n",
    "    model_kwargs[\"quantization_config\"] = BitsAndBytesConfig(load_in_4bit=True)"
   ]
  },
  {
   "cell_type": "code",
   "execution_count": null,
   "metadata": {
    "colab": {
     "base_uri": "https://localhost:8080/",
     "height": 534,
     "referenced_widgets": [
      "651f5b0ef75543c2b32a3ab2b17f4b45",
      "521842e500a340a2ab5d0c7595d103fb",
      "91237f13e68b46dbb3e7806a02c0935b",
      "ffa4097dfb6e486485f5f1ac0e055050",
      "91713b6ce5d345ec918a228fb9e97b42",
      "a3eb5e46c6bf4bfa81450b08458dfd35",
      "d83a8cc4d2e4461c9d61023942985f3f",
      "4d3bc7c5d2684b96a6ca41b48bc0a9f8",
      "48ec27f19b58492b8ca05556c37fe770",
      "da9e4dc9c1954539937b07fbc05d8c0c",
      "c6c038d4cfd345cabc36d3859b3b9af0",
      "de38f1e8eabf4198808d7ec4f0c42663",
      "74b9b2155071445d8e79824a04b8b9d7",
      "6d9e147b1f1346b1969b0be11774df6c",
      "1586426d00314ea1882c0a0b880317f1",
      "16e8d1dac3544ddc95d64a42ca39b86e",
      "ef33491d3a0542d2aaae1d8e296827dd",
      "a3c60aa56d3d493ba959105ca6561799",
      "e17f126c3e374d0fa8b9a1a2d976ad02",
      "b8fc9e98f2564c04b9e9b54bd77cd24f",
      "4601a5d83fd448fc8086df97258f5726",
      "19ecdcc3f1be4aa88bcb74f2c31728f1",
      "88bb426423e44d998a0a096d64faa9d5",
      "3b59e06c48674c39bcd89de6737cf8c9",
      "d7d23b47ce70417c941b2f426dba8641",
      "c788c5ac616942c3b2d5479cc82638ac",
      "14b54361362144c6ba729f415a4c981f",
      "64c03fc4df4d4d0d9b88ac9d69b5e034",
      "3639b333f1e645c0971ee73e516b1819",
      "1b1a58bb46d84964bbc33454eca21739",
      "c797466b2bc945838f1bb1c39874c181",
      "34c0b8302c2b4f09b39432a6c775ecc3",
      "def76f89cba94453b23654ca27c84e2d",
      "c7038624e240421cb34b033c1fb00834",
      "7525a7f2029d4428bd1e65348f5f3dec",
      "3784e54f7a3d4ec382dae094d18f47d6",
      "71c4ceacc3304066b61f60c5a2a1ff72",
      "0a2e076245304a419333ac6ee9010e8e",
      "dc6570cd7fcd4203a1820ceebfac8e45",
      "912446f6261045b9ba3cc5451a29fe07",
      "95d97365a59341a9ba33bd6b14cff74c",
      "4c9068a43b0545e4a282db8f62eef6ad",
      "125e586162974a6592a66c886780bf5b",
      "929ad045f37c44c48e48a9f95a30c9e5",
      "e53b7bb3790d41b58294f8f75619f0c6",
      "9334d8d79c95497e945aae73fb95a74c",
      "63136027ee584bbcae7c85f7961f1a90",
      "2f0d624794ae462f8d33d694aa230df6",
      "722c89c542cb4450870ad478736a2fa9",
      "cd870a2421c742a8a1fc49995717b0dc",
      "5858cf7babdc42299213111b85c1e6f2",
      "e987c7d7fcfa48efaa884cf34861d621",
      "59d9a4c1a7744c09a862635f579ffce5",
      "24fcc1ca8d4a41ea9ea96dc5da3b4e18",
      "ea4e75f604cd4cabb3817d3f4add51e8",
      "b148ec139ba84123bae24f8896e8db40",
      "10c488c4c5af4a3b9b8ab6ad21786f05",
      "dcfd5a623e8b4d719b97c949bbddc2e2",
      "5e84fced1a2548e1a2b46107f93a05cc",
      "0672e21edef84fa288e669c686265e68",
      "c362325d4e7848e3974c710dfb217879",
      "516d7dab708c4132854fc076f7313afc",
      "82c7d1eb8f714306b24a80191a73f2d8",
      "b8225e2c1c4c4371ae15bd21136cc755",
      "d1f05a4df58c4341b31c19c6d1e3cf46",
      "d2d209c8b50d4e44815a881769f34ab7",
      "ba7f04304ae04ed89f4c1fdfefdc4375",
      "0e42086697714cb0878184c189ebf70f",
      "ec56aa9086364e3d9a94de7cab90a5e0",
      "38c448fa713b4e859e4ec371073d2956",
      "3895c43e23854bd2ad66b7cb66f016d3",
      "f11a1b346cc749e983329d870ce3194d",
      "1692a38b70654f2ea1ceee5aaef89dff",
      "b99f6994412d4a5f98b267c77c153988",
      "fd78625805504f7b8f99dd01ddb70c6a",
      "97970d96aa664cb481abe26a74447f98",
      "c5f77b41e23b46269ed9911463512e2e",
      "38cd79182ab941e48b798ad3ce55ed7b",
      "5fdb18e0089d4d56a58be15b981ce7d4",
      "ce90ef7c88a444f3be7854fd959155fb",
      "d2d945b8d369452cb8af554896d87771",
      "c003b022956a48b7a9e2ab82529a4956",
      "265565069685486a96989dfbbf9ac7c8",
      "cf0474400fb24d9c9d51465976d476ba",
      "2905498163fc49e1b6c7fd11ea609e9c",
      "3f8500295c6c49e9bad878847f107d8b",
      "0c2b17e2078d4c498330b3a9d3ffdef4",
      "1d16d3f14f924c6a90762651eaef0e5c",
      "8c7c968591f54ccd927f405461c996b7",
      "249067e805ce4bc8adff6cc4e2ab708b",
      "59388979b4ba4a6cbb367267a5baccc7",
      "124c840d7146407f9e9ff97ea776b74e",
      "f9eb499a9487461587916c24f2ebbbff",
      "3b34c8d2e1794c0e86eac3425af8f390",
      "7def68ae08dc40b7928a35f770b2b315",
      "7c2f16b0513a490fabfba1f3bde0529b",
      "12575c99c3c440f69fdea3b4618fe85b",
      "db41a69f1c8d44fea8216c054013bfd8",
      "373d64092dbf41428afdfa14b932139c",
      "adea7509609e4874a5d8f719ab381537",
      "97741a9d51b943e38b6be4c8ef43919d",
      "49793422562f49c09974a84594411837",
      "b6bd1b9946454415abe171ded84f2a83",
      "c6b6bd4c99ed4dc1bcb38eedd0291256",
      "1ad08d99b9e446679704cd04d8e4f7bf",
      "2f6e0caa1c0946bfb807be0a3addfb8a",
      "b38099fc4e974a25ae76fcfc323ee6d6",
      "8dc7cec006d5413d80df54dc79747f81",
      "694c863240ea429a866cf36d70f6af91",
      "43d01739d714440c9bae3a521de41c6a",
      "d787f23049fc4428bec2dece546ade71",
      "a3549b241e11494b9e1d31bc44d80d6c",
      "ce3868c91f3b4d889b9627f09f848cb5",
      "a34fce3c42fa4998a7e26523847e43ca",
      "10fab6ea1fc04a56a30554e9ea8febc9",
      "9347af532f854aaa9b6c17b8c273da55",
      "c7111733c0054a8e9b428b5f2d20610d",
      "beb0f9b421c14358a6753f755871a85b",
      "39c6d75417294ddc8420b1c322393afd",
      "7ef9f468e7884ac487a8fb89af0c6cd3",
      "b32cc6b65e384ea0b48f5e84942bb2e3",
      "2c794fd1569b44e5a1f540f4076b40cc",
      "2234d400dec2488d925e4281761e9814",
      "c0937bf6466d4a49ab777700937d8ecb",
      "056222a8f73046b28ce1aadff8bf1e94",
      "6369c950f2dd4986ad5519c869b8b756",
      "e784bafe818a444dab551eeb015058a6",
      "2614978dd1d84db5b73851dfa3f8b9d5",
      "181f1535be3345069b7f70975e54de8f",
      "8e5abacd2c3f4c3f8b29677f71f1af97",
      "a05bd4c958374c98ad71af5b2cbb1d61",
      "37b7dddd59d540a082e5c6c5a7cafab2",
      "2d68123671b64e599c1dbdb9a9870e70",
      "343915f743d6451981176c77350070e5",
      "5b0198da921a4fa8bf8386e92a6d0e16",
      "c8e97e0b9712408f8a082b6190b66c94",
      "a5a4c5d5b45f4cfab769fd717c0915f0",
      "1db99bd2bd854174b84218b148d5422c",
      "6a1f563d4c304c38847f82060d77e4ca",
      "e79a8eac89fd46d989db173ebedc0d4d",
      "8c3b80d1d2d744bf9773a6c58aaac199",
      "da45e07f068b4c1199a67cf129595110",
      "7714f352c22e4787b28f0f690d7d2a2e",
      "83f88ac37ac44b02b1ea53480baf30ec",
      "7d121d186f6644aab7c3b724d0f60783",
      "dfd3e87d1a004123a25710b95c3d2f83",
      "39ff9c21bf184ad7abe4b74ff8e9d423",
      "fc6aec635cea4411b15e872227614ce0",
      "58c48b73a0c049c9a54627260d8a688f",
      "ff942dac66934abd9830fa4185aaa25a",
      "5f52c3ba1b1b486391af093c6ab691e7",
      "dd74e082be224ba6990a46b18eead05f",
      "1d0672d00ed34c1c99df1ca2c3324b9b",
      "8a3d009d17864cbb86a97af20176066e",
      "1598dd73d0f949efacc0d8aadf6e9738",
      "e44c07a26f554fed80edd4c877c8ecfd",
      "3f8f297aa9654d56b07cd4ae16e4aaa3",
      "93b341a72d0c4cb8ac360703a39cb84f",
      "99550ef3933d4475a7a44a2348c32da2",
      "288c74dc0d36435d9eaf23e0a362c32f",
      "fb9c08f640c54fc5bc16b0918cb1abfd",
      "5a142ce312d74bd3b29015904e329912",
      "24998969aad5416394279ed1f1bace0c",
      "b2549600b6df4239a7d2e62d988c07bb",
      "98df5b962bd24398aec2cdf7348e3c95"
     ]
    },
    "id": "Rd-VOjH9TPFy",
    "outputId": "28a16b0b-a9a7-4a6b-847d-be64f0318e7b"
   },
   "outputs": [],
   "source": [
    "# Load processor and model\n",
    "model = AutoModelForImageTextToText.from_pretrained(\n",
    "    model_id,\n",
    "    **model_kwargs,\n",
    ")\n",
    "processor = AutoProcessor.from_pretrained(model_id)"
   ]
  },
  {
   "cell_type": "code",
   "execution_count": null,
   "metadata": {
    "colab": {
     "base_uri": "https://localhost:8080/"
    },
    "id": "3O2UyUHmTUPO",
    "outputId": "fa5879a7-5ab6-4007-b247-50d336a3abf2"
   },
   "outputs": [
    {
     "name": "stderr",
     "output_type": "stream",
     "text": [
      "Device set to use cuda:0\n"
     ]
    }
   ],
   "source": [
    "pipe = pipeline(\n",
    "    \"image-text-to-text\",\n",
    "    model=model,\n",
    "    processor=processor,\n",
    "    model_kwargs=model_kwargs,\n",
    ")\n",
    "\n",
    "pipe.model.generation_config.do_sample = False"
   ]
  },
  {
   "cell_type": "code",
   "execution_count": null,
   "metadata": {
    "id": "eN80rNHDTXKM"
   },
   "outputs": [],
   "source": [
    "# Inference function for Gradio\n",
    "def medgemma_infer(uploaded_image, prompt):\n",
    "    if not uploaded_image or not prompt.strip():\n",
    "        return \"Please upload an image and enter a prompt.\"\n",
    "\n",
    "    messages = [\n",
    "        {\"role\": \"system\", \"content\": [{\"type\": \"text\", \"text\": \"You are an expert radiologist.\"}]},\n",
    "        {\"role\": \"user\", \"content\": [\n",
    "            {\"type\": \"text\", \"text\": prompt},\n",
    "            {\"type\": \"image\", \"image\": uploaded_image}\n",
    "        ]}\n",
    "    ]\n",
    "\n",
    "    output = pipe(text=messages, max_new_tokens=300)\n",
    "    response = output[0][\"generated_text\"][-1][\"content\"]\n",
    "    return response\n"
   ]
  },
  {
   "cell_type": "code",
   "execution_count": 14,
   "metadata": {
    "colab": {
     "base_uri": "https://localhost:8080/",
     "height": 611
    },
    "id": "2uMm_2VqWC-A",
    "outputId": "4840798f-0b54-487b-b058-46b177b612f3"
   },
   "outputs": [
    {
     "name": "stdout",
     "output_type": "stream",
     "text": [
      "Colab notebook detected. To show errors in colab notebook, set debug=True in launch()\n",
      "* Running on public URL: https://696090078db9a1ac2b.gradio.live\n",
      "\n",
      "This share link expires in 1 week. For free permanent hosting and GPU upgrades, run `gradio deploy` from the terminal in the working directory to deploy to Hugging Face Spaces (https://huggingface.co/spaces)\n"
     ]
    },
    {
     "data": {
      "text/html": [
       "<div><iframe src=\"https://696090078db9a1ac2b.gradio.live\" width=\"100%\" height=\"500\" allow=\"autoplay; camera; microphone; clipboard-read; clipboard-write;\" frameborder=\"0\" allowfullscreen></iframe></div>"
      ],
      "text/plain": [
       "<IPython.core.display.HTML object>"
      ]
     },
     "metadata": {},
     "output_type": "display_data"
    },
    {
     "data": {
      "text/plain": []
     },
     "execution_count": 14,
     "metadata": {},
     "output_type": "execute_result"
    }
   ],
   "source": [
    "# Launch Gradio\n",
    "gr.Interface(\n",
    "    fn=medgemma_infer,\n",
    "    inputs=[\n",
    "        gr.Image(type=\"pil\", label=\"Upload Medical Image\"),\n",
    "        gr.Textbox(lines=2, label=\"Describe symptoms or findings\")\n",
    "    ],\n",
    "    outputs=gr.Textbox(label=\"MedGemma Diagnosis\"),\n",
    "    title=\"🧠 MedGemma Medical Visual Assistant\",\n",
    "    description=\"Upload a medical image and describe symptoms. Model will return an expert-like diagnosis.\"\n",
    ").launch(share=True)"
   ]
  },
  {
   "cell_type": "code",
   "execution_count": null,
   "metadata": {
    "id": "CGXNqth8ldD5"
   },
   "outputs": [],
   "source": []
  }
 ],
 "metadata": {
  "accelerator": "GPU",
  "colab": {
   "gpuType": "T4",
   "provenance": []
  },
  "kernelspec": {
   "display_name": "Python 3",
   "name": "python3"
  },
  "language_info": {
   "name": "python"
  }
 },
 "nbformat": 4,
 "nbformat_minor": 0
}
